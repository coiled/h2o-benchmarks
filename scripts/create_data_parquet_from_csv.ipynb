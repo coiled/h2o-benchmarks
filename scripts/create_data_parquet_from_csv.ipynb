{
 "cells": [
  {
   "cell_type": "code",
   "execution_count": null,
   "id": "85958414",
   "metadata": {},
   "outputs": [],
   "source": [
    "from coiled import Cluster\n",
    "from dask.distributed import Client"
   ]
  },
  {
   "cell_type": "code",
   "execution_count": null,
   "id": "45d6e889",
   "metadata": {},
   "outputs": [],
   "source": [
    "cluster = Cluster(n_workers=50, package_sync=True)"
   ]
  },
  {
   "cell_type": "code",
   "execution_count": null,
   "id": "fb864c26",
   "metadata": {},
   "outputs": [],
   "source": [
    "csv_dir = \"s3://coiled-datasets/h2o-benchmark/N_1e9_K_1e2/\"\n",
    "output_dir = \"s3://coiled-datasets/h2o-benchmark/pyarrow_strings/N_1e9_K_1e2/\""
   ]
  },
  {
   "cell_type": "code",
   "execution_count": null,
   "id": "dccda1cf",
   "metadata": {},
   "outputs": [],
   "source": [
    "client = Client(cluster)\n",
    "client"
   ]
  },
  {
   "cell_type": "code",
   "execution_count": null,
   "id": "53ebca96",
   "metadata": {},
   "outputs": [],
   "source": [
    "import dask.dataframe as dd\n",
    "import os"
   ]
  },
  {
   "cell_type": "code",
   "execution_count": null,
   "id": "dbabc511",
   "metadata": {},
   "outputs": [],
   "source": [
    "ddf = dd.read_csv(\n",
    "        os.path.join(csv_dir, \"*.csv\"),\n",
    "        dtype={\n",
    "            \"id1\": \"string[pyarrow]\", \n",
    "            \"id2\": \"string[pyarrow]\",\n",
    "            \"id3\": \"string[pyarrow]\",\n",
    "            \"id4\": \"Int32\",\n",
    "            \"id5\": \"Int32\",\n",
    "            \"id6\": \"Int32\",\n",
    "            \"v1\": \"Int32\",\n",
    "            \"v2\": \"Int32\",\n",
    "            \"v3\": \"float64\",\n",
    "        },\n",
    "    )"
   ]
  },
  {
   "cell_type": "code",
   "execution_count": null,
   "id": "3e830c75",
   "metadata": {},
   "outputs": [],
   "source": [
    "%%time\n",
    "ddf.repartition(partition_size=\"100MB\").to_parquet(\n",
    "        output_dir,\n",
    "        engine=\"pyarrow\",\n",
    "        compression=\"snappy\",\n",
    "        write_metadata_file=False,\n",
    "    )"
   ]
  },
  {
   "cell_type": "markdown",
   "id": "6427dae8",
   "metadata": {},
   "source": [
    "### NOTE\n",
    "When using this dataset, rememeber that you need to read the columns casting `pyarrow[strings]` and the size of partitions is checked doing.\n",
    "\n",
    "```python\n",
    "ddf = dd.read_parquet(\"uri_of_pq_dir\")\n",
    "mem = ddf.astype({\"id1\": \"string[pyarrow]\",\n",
    "                  \"id2\": \"string[pyarrow]\", \n",
    "                  \"id3\": \"string[pyarrow]\"}).memory_usage_per_partition(deep=True).compute()\n",
    "\n",
    "from dask.utils import format_bytes\n",
    "#check one partition\n",
    "format_bytes(mem[0]) #this should be approximately 100MB\n",
    "```"
   ]
  },
  {
   "cell_type": "code",
   "execution_count": null,
   "id": "65d67943",
   "metadata": {},
   "outputs": [],
   "source": [
    "cluster.close()"
   ]
  },
  {
   "cell_type": "code",
   "execution_count": null,
   "id": "26cb5589",
   "metadata": {},
   "outputs": [],
   "source": [
    "client.shutdown()"
   ]
  },
  {
   "cell_type": "code",
   "execution_count": null,
   "id": "4d631eb9",
   "metadata": {},
   "outputs": [],
   "source": [
    "from dask.distributed import Client\n",
    "\n",
    "client = Client()\n",
    "client"
   ]
  },
  {
   "cell_type": "code",
   "execution_count": 2,
   "id": "24e147a7",
   "metadata": {},
   "outputs": [
    {
     "data": {
      "text/plain": [
       "'71.53 MiB'"
      ]
     },
     "execution_count": 2,
     "metadata": {},
     "output_type": "execute_result"
    }
   ],
   "source": [
    "import dask.dataframe as dd\n",
    "from dask.utils import format_bytes\n",
    "\n",
    "ddf = dd.read_parquet(\"s3://coiled-datasets/h2o-benchmark/pyarrow_strings/N_1e9_K_1e2/part.0.parquet\")\n",
    "\n",
    "mem = ddf.astype({\"id1\": \"string[pyarrow]\",\n",
    "                  \"id2\": \"string[pyarrow]\", \n",
    "                  \"id3\": \"string[pyarrow]\"}).memory_usage_per_partition(deep=True).compute()\n",
    "\n",
    "\n",
    "format_bytes(mem[0])"
   ]

  }
 ],
 "metadata": {
  "kernelspec": {
   "display_name": "Python 3 (ipykernel)",
   "language": "python",
   "name": "python3"
  },
  "language_info": {
   "codemirror_mode": {
    "name": "ipython",
    "version": 3
   },
   "file_extension": ".py",
   "mimetype": "text/x-python",
   "name": "python",
   "nbconvert_exporter": "python",
   "pygments_lexer": "ipython3",
   "version": "3.9.13"
  }
 },
 "nbformat": 4,
 "nbformat_minor": 5
}
