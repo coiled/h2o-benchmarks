{
 "cells": [
  {
   "cell_type": "markdown",
   "id": "40454f56",
   "metadata": {},
   "source": [
    "## Groupby data to S3 - coiled\n",
    "\n",
    "Use this notebook to write to s3 groupby data for cases N= 1e7, 1e8, 1e9. "
   ]
  },
  {
   "cell_type": "code",
   "execution_count": null,
   "id": "1f99e6d4-dca3-481e-8e25-856281071792",
   "metadata": {},
   "outputs": [],
   "source": [
    "import numpy as np\n",
    "import pandas as pd\n",
    "from dask.distributed import Client, wait"
   ]
  },
  {
   "cell_type": "code",
   "execution_count": null,
   "id": "0867d45a-c1d0-4000-8310-43ff6e9bcc89",
   "metadata": {},
   "outputs": [],
   "source": [
    "import coiled"
   ]
  },
  {
   "cell_type": "code",
   "execution_count": null,
   "id": "ff1d51a9-5f7e-467b-8061-a1266edfc2e3",
   "metadata": {},
   "outputs": [],
   "source": [
    "def create_single_df(N, K, nfiles, dir, i):\n",
    "    \"\"\"\n",
    "    Creates a single pandas dataframe that contains nrows=N/nfiles\n",
    "\n",
    "    Parameters\n",
    "    ----------\n",
    "    N: int,\n",
    "     Total number of rows\n",
    "    K: int,\n",
    "     Number of groups\n",
    "    nfiles: int,\n",
    "     Number of output files\n",
    "    dir: str,\n",
    "     Output directory\n",
    "    i: int,\n",
    "     Integer to assign to the multiple files e.g. range(nfiles)\n",
    "    \"\"\"\n",
    "\n",
    "    nrows = int(N / nfiles)\n",
    "\n",
    "    sample_id12 = [f\"id{str(x).zfill(3)}\" for x in range(1, K + 1)]\n",
    "    sample_id3 = [f\"id{str(x).zfill(10)}\" for x in range(1, int(N / K) + 1)]\n",
    "\n",
    "    id1 = np.random.choice(sample_id12, size=nrows, replace=True)\n",
    "    id2 = np.random.choice(sample_id12, size=nrows, replace=True)\n",
    "    id3 = np.random.choice(sample_id3, size=nrows, replace=True)\n",
    "    id4 = np.random.choice(K, size=nrows, replace=True)\n",
    "    id5 = np.random.choice(K, size=nrows, replace=True)\n",
    "    id6 = np.random.choice(int(N / K), size=nrows, replace=True)\n",
    "    v1 = np.random.choice(5, size=nrows, replace=True)\n",
    "    v2 = np.random.choice(15, size=nrows, replace=True)\n",
    "    v3 = np.random.uniform(0, 100, size=nrows)\n",
    "\n",
    "    df = pd.DataFrame(\n",
    "        dict(\n",
    "            zip(\n",
    "                [f\"id{x}\" for x in range(1, 7)] + [\"v1\", \"v2\", \"v3\"],\n",
    "                [id1, id2, id3, id4, id5, id6, v1, v2, v3],\n",
    "            )\n",
    "        )\n",
    "    )\n",
    "\n",
    "    #DATA DF AS TYPE\n",
    "    # df.astype({\"id3\": \"string[pyarrow]\"})\n",
    "    \n",
    "    df.to_csv(\n",
    "        f\"{dir}/groupby-N_{N}_K_{K}_file_{i}.csv\",\n",
    "        index=False,\n",
    "        float_format=\"{:.6f}\".format,\n",
    "    )"
   ]
  },
  {
   "cell_type": "code",
   "execution_count": null,
   "id": "05a6172f-deb5-4079-9169-5a7cf8310786",
   "metadata": {},
   "outputs": [],
   "source": [
    "cluster = coiled.Cluster(n_workers=50, \n",
    "                         package_sync=True)"
   ]
  },
  {
   "cell_type": "code",
   "execution_count": null,
   "id": "625f982f-bccd-4812-b666-b340403bfb3a",
   "metadata": {},
   "outputs": [],
   "source": [
    "cluster = coiled.Cluster(name=\"ncclementi-26ca1857-6\", \n",
    "                        scheduler_options={\"idle_timeout\": \"2 hour\"})"
   ]
  },
  {
   "cell_type": "code",
   "execution_count": null,
   "id": "c5ffdca2-ddec-44f4-a1ab-f3d25c7d0a38",
   "metadata": {},
   "outputs": [],
   "source": [
    "client = Client(cluster)\n",
    "client"
   ]
  },
  {
   "cell_type": "code",
   "execution_count": null,
   "id": "0d5a2d7f-acea-40b5-b161-274a997e0029",
   "metadata": {},
   "outputs": [],
   "source": [
    "N = 1e9 #change accordingly N= 1e7, 1e8, 1e9\n",
    "K = 1e2"
   ]
  },
  {
   "cell_type": "code",
   "execution_count": null,
   "id": "03ed5ee0-0bbe-4599-9a98-e6a4103e21ba",
   "metadata": {},
   "outputs": [],
   "source": [
    "s3_dir = \"s3://coiled-datasets/h2o-benchmark/\""
   ]
  },
  {
   "cell_type": "code",
   "execution_count": null,
   "id": "882532e0-ccea-4284-8776-c7ed60ca603a",
   "metadata": {},
   "outputs": [],
   "source": [
    "N = int(N)\n",
    "K = int(K)\n",
    "nfiles = 1000\n",
    "dir = s3_dir + \"N_1e9_K_1e2\"  #change accordingly N= 1e7, 1e8, 1e9"
   ]
  },
  {
   "cell_type": "code",
   "execution_count": null,
   "id": "d121c980-1326-44b0-9244-ff5ecc7b92f7",
   "metadata": {},
   "outputs": [],
   "source": [
    "futures = client.map(\n",
    "            lambda i: create_single_df(N, K, nfiles, dir, i), range(nfiles)\n",
    "        )"
   ]
  }
 ],
 "metadata": {
  "kernelspec": {
   "display_name": "Python 3 (ipykernel)",
   "language": "python",
   "name": "python3"
  },
  "language_info": {
   "codemirror_mode": {
    "name": "ipython",
    "version": 3
   },
   "file_extension": ".py",
   "mimetype": "text/x-python",
   "name": "python",
   "nbconvert_exporter": "python",
   "pygments_lexer": "ipython3",
   "version": "3.9.13"
  }
 },
 "nbformat": 4,
 "nbformat_minor": 5
}
