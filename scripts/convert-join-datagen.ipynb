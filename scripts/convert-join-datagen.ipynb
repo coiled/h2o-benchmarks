{
 "cells": [
  {
   "cell_type": "code",
   "execution_count": 1,
   "id": "b3693532-7b3a-44bc-ae50-ea90c940ff2f",
   "metadata": {},
   "outputs": [],
   "source": [
    "def create_single_df(N, K, nfiles, dir, i):\n",
    "    \"\"\"\n",
    "    Creates a single pandas dataframe that contains nrows=N/nfiles\n",
    "\n",
    "    Parameters\n",
    "    ----------\n",
    "    N: int,\n",
    "     Total number of rows\n",
    "    K: int,\n",
    "     Number of groups\n",
    "    nfiles: int,\n",
    "     Number of output files\n",
    "    dir: str,\n",
    "     Output directory\n",
    "    i: int,\n",
    "     Integer to assign to the multiple files e.g. range(nfiles)\n",
    "    \"\"\"\n",
    "\n",
    "    nrows = int(N / nfiles)\n",
    "\n",
    "    sample_id12 = [f\"id{str(x).zfill(3)}\" for x in range(1, K + 1)]\n",
    "    sample_id3 = [f\"id{str(x).zfill(10)}\" for x in range(1, int(N / K) + 1)]\n",
    "\n",
    "    id1 = np.random.choice(sample_id12, size=nrows, replace=True)\n",
    "    id2 = np.random.choice(sample_id12, size=nrows, replace=True)\n",
    "    id3 = np.random.choice(sample_id3, size=nrows, replace=True)\n",
    "    id4 = np.random.choice(K, size=nrows, replace=True)\n",
    "    id5 = np.random.choice(K, size=nrows, replace=True)\n",
    "    id6 = np.random.choice(int(N / K), size=nrows, replace=True)\n",
    "    v1 = np.random.choice(5, size=nrows, replace=True)\n",
    "    v2 = np.random.choice(15, size=nrows, replace=True)\n",
    "    v3 = np.random.uniform(0, 100, size=nrows)\n",
    "\n",
    "    df = pd.DataFrame(\n",
    "        dict(\n",
    "            zip(\n",
    "                [f\"id{x}\" for x in range(1, 7)] + [\"v1\", \"v2\", \"v3\"],\n",
    "                [id1, id2, id3, id4, id5, id6, v1, v2, v3],\n",
    "            )\n",
    "        )\n",
    "    )\n",
    "\n",
    "    df.to_csv(\n",
    "        f\"{dir}/groupby-N_{N}_K_{K}_file_{i}.csv\",\n",
    "        index=False,\n",
    "        float_format=\"{:.6f}\".format,\n",
    "    )"
   ]
  },
  {
   "cell_type": "markdown",
   "id": "0dd73dc4-9e76-466d-8c7d-48480e37e26a",
   "metadata": {},
   "source": [
    "```r\n",
    "# split into common (0.9) left (0.1) and right (0.1)\n",
    "split_xlr = function(n) {\n",
    "  key = sample.int(n*1.1) # 1.1 = 0.9+0.1+0.1\n",
    "  list(\n",
    "    x = key[seq.int(1, n*0.9)],\n",
    "    l = key[seq.int(n*0.9+1, n)],\n",
    "    r = key[seq.int(n+1, n*1.1)]\n",
    "  )\n",
    "}\n",
    "```"
   ]
  },
  {
   "cell_type": "code",
   "execution_count": 97,
   "id": "d672d961-1ddb-4681-b2e8-2f18433f4a63",
   "metadata": {},
   "outputs": [],
   "source": [
    "def split_xlr(n):\n",
    "    n = int(n)\n",
    "    key = np.random.choice(np.arange(1, int(n*1.1) + 1), size=int(n*1.1), replace=False)\n",
    "    x = key[np.arange(0, int(n*0.9))]\n",
    "    l = key[np.arange(int(n*0.9), n)]\n",
    "    r = key[np.arange(n, int(n*1.1))]\n",
    "    return {\"x\": x, \"l\": l, \"r\": r}"
   ]
  },
  {
   "cell_type": "markdown",
   "id": "3e9a0e72-4a82-451d-9714-2dc256ea31d3",
   "metadata": {},
   "source": [
    "```r\n",
    "sample_all = function(x, size) {\n",
    "  stopifnot(length(x) <= size)\n",
    "  y = c(x, sample(x, size=max(size-length(x), 0), replace=TRUE))\n",
    "  sample(y)\n",
    "}\n",
    "# lhs = ['x', 'l']\n",
    "id1 = sample_all(unlist(key1[lhs], use.names=FALSE), N),\n",
    "id2 = sample_all(unlist(key2[lhs], use.names=FALSE), N),\n",
    "id3 = sample_all(unlist(key3[lhs], use.names=FALSE), N)\n",
    "```"
   ]
  },
  {
   "cell_type": "code",
   "execution_count": 102,
   "id": "1e94a0ee-4eac-4787-860b-97a0a3ae062e",
   "metadata": {},
   "outputs": [],
   "source": [
    "def sample_all(x, n_rows):\n",
    "    n_rows = int(n_rows)\n",
    "    assert(len(x) <= n_rows), \"I'm so sad\"\n",
    "    y = np.append(\n",
    "        x,\n",
    "        np.random.choice(x, size=max(n_rows-len(x), 0), replace=True)\n",
    "    )\n",
    "    return np.random.choice(y, size=len(y), replace=False)"
   ]
  },
  {
   "cell_type": "code",
   "execution_count": 98,
   "id": "34f3ffd4-145f-47e7-a41b-9c8c0b3fa0f7",
   "metadata": {},
   "outputs": [],
   "source": [
    "N = 1e7\n",
    "\n",
    "key1 = split_xlr(N/1e6) # 10\n",
    "key2 = split_xlr(N/1e3) # 10000\n",
    "key3 = split_xlr(N) # 1e7"
   ]
  },
  {
   "cell_type": "code",
   "execution_count": 107,
   "id": "74cbb8b0-ac1c-4323-986d-d9c6f52034d5",
   "metadata": {},
   "outputs": [],
   "source": [
    "id1 = sample_all(np.append(key1['x'], key1['l']), N)\n",
    "id2 = sample_all(np.append(key2['x'], key2['l']), N)\n",
    "id3 = sample_all(np.append(key3['x'], key3['l']), N)"
   ]
  },
  {
   "cell_type": "code",
   "execution_count": null,
   "id": "9be793ea-b476-48a7-b786-02ecac3a306b",
   "metadata": {},
   "outputs": [],
   "source": []
  },
  {
   "cell_type": "code",
   "execution_count": null,
   "id": "01bfbf95-3c56-4151-a614-bb53a3398118",
   "metadata": {},
   "outputs": [],
   "source": []
  }
 ],
 "metadata": {
  "kernelspec": {
   "display_name": "Python 3",
   "language": "python",
   "name": "python3"
  },
  "language_info": {
   "codemirror_mode": {
    "name": "ipython",
    "version": 3
   },
   "file_extension": ".py",
   "mimetype": "text/x-python",
   "name": "python",
   "nbconvert_exporter": "python",
   "pygments_lexer": "ipython3",
   "version": "3.9.13"
  }
 },
 "nbformat": 4,
 "nbformat_minor": 5
}
