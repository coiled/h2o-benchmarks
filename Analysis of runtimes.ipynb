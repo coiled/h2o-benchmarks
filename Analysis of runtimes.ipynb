{
 "cells": [
  {
   "cell_type": "code",
   "execution_count": null,
   "id": "824c1b42-cce4-4aee-a5f7-13b46a181eca",
   "metadata": {},
   "outputs": [],
   "source": [
    "import pandas as pd\n",
    "import matplotlib.pyplot as plt\n",
    "import coiled\n",
    "from dask.distributed import Client\n",
    "import dask.dataframe as dd\n",
    "import pandas as pd\n",
    "import numpy as np\n",
    "\n",
    "from src.run_ms_queries import run"
   ]
  },
  {
   "cell_type": "code",
   "execution_count": 2,
   "id": "108cd22f-ba65-4a1d-9548-5c1b77290b22",
   "metadata": {},
   "outputs": [
    {
     "name": "stderr",
     "output_type": "stream",
     "text": [
      "Dropped Package - PyYAML, Wheel built from local egg\n",
      "Dropped Package - appnope, 0.1.2 has no install candidate for linux-64\n"
     ]
    },
    {
     "data": {
      "text/html": [
       "<pre style=\"white-space:pre;overflow-x:auto;line-height:normal;font-family:Menlo,'DejaVu Sans Mono',consolas,'Courier New',monospace\">╭───────────────────────────────────────── <span style=\"color: #008000; text-decoration-color: #008000; font-weight: bold\">Package Issues</span> ─────────────────────────────────────────╮\n",
       "│                    ╷                                                           ╷                 │\n",
       "│  <span style=\"font-weight: bold\"> Package          </span>│<span style=\"font-weight: bold\"> Issue                                                     </span>│<span style=\"font-weight: bold\"> Risk Level    </span>  │\n",
       "│ ╶──────────────────┼───────────────────────────────────────────────────────────┼───────────────╴ │\n",
       "│   appnope          │ 0.1.2 has no install candidate for linux-64               │ Warning         │\n",
       "│   PyYAML           │ Wheel built from local egg                                │ Warning         │\n",
       "│   libgfortran      │ 5.0.0 has no install candidate for linux-64               │                 │\n",
       "│   openssl          │ Package ignored                                           │                 │\n",
       "│   abseil-cpp       │ Package ignored                                           │                 │\n",
       "│                    ╵                                                           ╵                 │\n",
       "╰──────────────────────────────────────────────────────────────────────────────────────────────────╯\n",
       "</pre>\n"
      ],
      "text/plain": [
       "╭───────────────────────────────────────── \u001b[1;32mPackage Issues\u001b[0m ─────────────────────────────────────────╮\n",
       "│                    ╷                                                           ╷                 │\n",
       "│  \u001b[1m \u001b[0m\u001b[1mPackage         \u001b[0m\u001b[1m \u001b[0m│\u001b[1m \u001b[0m\u001b[1mIssue                                                    \u001b[0m\u001b[1m \u001b[0m│\u001b[1m \u001b[0m\u001b[1mRisk Level   \u001b[0m\u001b[1m \u001b[0m  │\n",
       "│ ╶──────────────────┼───────────────────────────────────────────────────────────┼───────────────╴ │\n",
       "│   appnope          │ 0.1.2 has no install candidate for linux-64               │ Warning         │\n",
       "│   PyYAML           │ Wheel built from local egg                                │ Warning         │\n",
       "│   libgfortran      │ 5.0.0 has no install candidate for linux-64               │                 │\n",
       "│   openssl          │ Package ignored                                           │                 │\n",
       "│   abseil-cpp       │ Package ignored                                           │                 │\n",
       "│                    ╵                                                           ╵                 │\n",
       "╰──────────────────────────────────────────────────────────────────────────────────────────────────╯\n"
      ]
     },
     "metadata": {},
     "output_type": "display_data"
    },
    {
     "data": {
      "application/vnd.jupyter.widget-view+json": {
       "model_id": "25b8ad5f3d074a6597051c68e0f50fec",
       "version_major": 2,
       "version_minor": 0
      },
      "text/plain": [
       "Output()"
      ]
     },
     "metadata": {},
     "output_type": "display_data"
    },
    {
     "data": {
      "text/html": [
       "<pre style=\"white-space:pre;overflow-x:auto;line-height:normal;font-family:Menlo,'DejaVu Sans Mono',consolas,'Courier New',monospace\"></pre>\n"
      ],
      "text/plain": []
     },
     "metadata": {},
     "output_type": "display_data"
    },
    {
     "ename": "ClusterCreationError",
     "evalue": "Cluster status is error (reason: Scheduler Stopped -> Software environment exited with error code 1) (cluster_id: 80064)",
     "output_type": "error",
     "traceback": [
      "\u001b[0;31m---------------------------------------------------------------------------\u001b[0m",
      "\u001b[0;31mClusterCreationError\u001b[0m                      Traceback (most recent call last)",
      "Input \u001b[0;32mIn [2]\u001b[0m, in \u001b[0;36m<cell line: 1>\u001b[0;34m()\u001b[0m\n\u001b[0;32m----> 1\u001b[0m cluster \u001b[38;5;241m=\u001b[39m \u001b[43mcoiled\u001b[49m\u001b[38;5;241;43m.\u001b[39;49m\u001b[43mCluster\u001b[49m\u001b[43m(\u001b[49m\n\u001b[1;32m      2\u001b[0m \u001b[43m    \u001b[49m\u001b[43mname\u001b[49m\u001b[38;5;241;43m=\u001b[39;49m\u001b[38;5;124;43m\"\u001b[39;49m\u001b[38;5;124;43mh2o-benchmarks\u001b[39;49m\u001b[38;5;124;43m\"\u001b[39;49m\u001b[43m,\u001b[49m\n\u001b[1;32m      3\u001b[0m \u001b[43m    \u001b[49m\u001b[43mn_workers\u001b[49m\u001b[38;5;241;43m=\u001b[39;49m\u001b[38;5;241;43m10\u001b[39;49m\u001b[43m,\u001b[49m\n\u001b[1;32m      4\u001b[0m \u001b[43m    \u001b[49m\u001b[43mworker_vm_types\u001b[49m\u001b[38;5;241;43m=\u001b[39;49m\u001b[43m[\u001b[49m\u001b[38;5;124;43m\"\u001b[39;49m\u001b[38;5;124;43mt3.large\u001b[39;49m\u001b[38;5;124;43m\"\u001b[39;49m\u001b[43m]\u001b[49m\u001b[43m,\u001b[49m\u001b[43m  \u001b[49m\u001b[38;5;66;43;03m# 2CPU, 8GiB\u001b[39;49;00m\n\u001b[1;32m      5\u001b[0m \u001b[43m    \u001b[49m\u001b[43mscheduler_vm_types\u001b[49m\u001b[38;5;241;43m=\u001b[39;49m\u001b[43m[\u001b[49m\u001b[38;5;124;43m\"\u001b[39;49m\u001b[38;5;124;43mt3.large\u001b[39;49m\u001b[38;5;124;43m\"\u001b[39;49m\u001b[43m]\u001b[49m\u001b[43m,\u001b[49m\n\u001b[1;32m      6\u001b[0m \u001b[43m    \u001b[49m\u001b[43mpackage_sync\u001b[49m\u001b[38;5;241;43m=\u001b[39;49m\u001b[38;5;28;43;01mTrue\u001b[39;49;00m\u001b[43m,\u001b[49m\n\u001b[1;32m      7\u001b[0m \u001b[43m)\u001b[49m\n",
      "File \u001b[0;32m~/mambaforge/envs/sept-release-arrow-nightly/lib/python3.10/site-packages/coiled/_beta/cluster.py:390\u001b[0m, in \u001b[0;36mClusterBeta.__init__\u001b[0;34m(self, name, software, n_workers, worker_class, worker_options, worker_vm_types, worker_cpu, worker_memory, worker_disk_size, worker_gpu, worker_gpu_type, scheduler_class, scheduler_options, scheduler_vm_types, scheduler_cpu, scheduler_memory, asynchronous, cloud, account, shutdown_on_close, use_scheduler_public_ip, credentials, timeout, environ, tags, send_dask_config, backend_options, show_widget, configure_logging, wait_for_workers, package_sync, package_sync_strict, package_sync_fail_on)\u001b[0m\n\u001b[1;32m    388\u001b[0m     \u001b[38;5;28;01mif\u001b[39;00m \u001b[38;5;28mself\u001b[39m\u001b[38;5;241m.\u001b[39mcluster_id:\n\u001b[1;32m    389\u001b[0m         log_cluster_debug_info(\u001b[38;5;28mself\u001b[39m\u001b[38;5;241m.\u001b[39mcluster_id, \u001b[38;5;28mself\u001b[39m\u001b[38;5;241m.\u001b[39maccount)\n\u001b[0;32m--> 390\u001b[0m     \u001b[38;5;28;01mraise\u001b[39;00m e\u001b[38;5;241m.\u001b[39mwith_traceback(\u001b[38;5;28;01mNone\u001b[39;00m)\n\u001b[1;32m    391\u001b[0m \u001b[38;5;28;01mexcept\u001b[39;00m \u001b[38;5;167;01mKeyboardInterrupt\u001b[39;00m \u001b[38;5;28;01mas\u001b[39;00m e:\n\u001b[1;32m    392\u001b[0m     error \u001b[38;5;241m=\u001b[39m e\n",
      "\u001b[0;31mClusterCreationError\u001b[0m: Cluster status is error (reason: Scheduler Stopped -> Software environment exited with error code 1) (cluster_id: 80064)"
     ]
    }
   ],
   "source": [
    "cluster = coiled.Cluster(\n",
    "    name=\"h2o-benchmarks\",\n",
    "    n_workers=10,\n",
    "    worker_vm_types=[\"t3.large\"],  # 2CPU, 8GiB\n",
    "    scheduler_vm_types=[\"t3.large\"],\n",
    "    package_sync=True,\n",
    ")"
   ]
  },
  {
   "cell_type": "code",
   "execution_count": null,
   "id": "f9ae6950-e97c-47ec-96d0-7b3c63256414",
   "metadata": {},
   "outputs": [],
   "source": [
    "client = Client(cluster)\n",
    "client.amm.start()\n",
    "client"
   ]
  },
  {
   "cell_type": "code",
   "execution_count": null,
   "id": "fa3f746e-3a55-4ed6-9a0b-46e38681149c",
   "metadata": {},
   "outputs": [],
   "source": [
    "data_size = {\n",
    "    \"05GB\": \"s3://coiled-datasets/h2o-benchmark/N_1e7_K_1e2_parquet/*.parquet\",\n",
    "    \"5GB\": \"s3://coiled-datasets/h2o-benchmark/N_1e8_K_1e2_parquet/*.parquet\",\n",
    "    \"50GB\": \"s3://coiled-datasets/h2o-benchmark/N_1e9_K_1e2_parquet/*.parquet\",\n",
    "}\n",
    "# Select a data_size\n",
    "\n",
    "ds = \"50GB\" # choose \"05GB\" , \"5GB\" or \"50GB\""
   ]
  },
  {
   "cell_type": "code",
   "execution_count": null,
   "id": "5112ad42-33ce-491f-b37b-d73975af6667",
   "metadata": {},
   "outputs": [],
   "source": [
    "ddf = dd.read_parquet(\n",
    "    data_size[ds],\n",
    "    engine=\"pyarrow\",\n",
    "    storage_options={\"anon\": True},\n",
    ")\n",
    "ddf.ids = ddf.id3.astype(\"string[pyarrow]\")"
   ]
  },
  {
   "cell_type": "code",
   "execution_count": null,
   "id": "a8adef01-3fc5-499a-80c1-2ce9b3fa72d6",
   "metadata": {
    "tags": []
   },
   "outputs": [],
   "source": [
    "# from src.run_ms_queries import run\n",
    "run(client, ddf, \"sept_run_with_p2p_shuffle_arrow_nightly.csv\")"
   ]
  },
  {
   "cell_type": "code",
   "execution_count": null,
   "id": "55d8b85d-502a-44eb-ae0d-82f89f1a8a0d",
   "metadata": {},
   "outputs": [],
   "source": []
  },
  {
   "cell_type": "code",
   "execution_count": null,
   "id": "69a67b6c-380c-4097-b793-019937d8953b",
   "metadata": {},
   "outputs": [],
   "source": [
    "client.shutdown()"
   ]
  },
  {
   "cell_type": "markdown",
   "id": "47ebb482-304c-4521-958c-375320c93d53",
   "metadata": {},
   "source": [
    "## Analyze datasets after two files have been collected"
   ]
  },
  {
   "cell_type": "code",
   "execution_count": null,
   "id": "97ae3001-e11b-4dce-b7a9-9d8a7846ccc6",
   "metadata": {
    "tags": []
   },
   "outputs": [],
   "source": [
    "def format_df(fname, release_name):\n",
    "    df = pd.read_csv(fname)\n",
    "    df = df.rename(columns={'0': \"time (sec)\"})\n",
    "    df[\"time (sec)\"] = pd.to_timedelta(df['time (sec)']).dt.total_seconds()\n",
    "    df = df.set_index(\"time (sec)\")\n",
    "    cols = df.columns.tolist()\n",
    "    cols = [f\"{col}_{release_name}\" for col in cols]\n",
    "    df.columns = cols\n",
    "    return df"
   ]
  },
  {
   "cell_type": "code",
   "execution_count": null,
   "id": "5651c18f-f36d-4217-bc8e-eac3fa5cb64a",
   "metadata": {},
   "outputs": [],
   "source": [
    "files = [\"june_run_20_workers_1.csv\", \"sept_run_20_workers.csv\"]\n",
    "\n",
    "df = format_df(files[0], 'june')\n",
    "df2 = format_df(files[1], 'sept')"
   ]
  },
  {
   "cell_type": "code",
   "execution_count": null,
   "id": "d0a894e8-c261-4eb8-979d-5506c2f92a12",
   "metadata": {},
   "outputs": [],
   "source": [
    "total_df = pd.merge(df, df2, left_index=True, right_index=True, how=\"outer\")\n",
    "total_df.head()"
   ]
  },
  {
   "cell_type": "code",
   "execution_count": null,
   "id": "dcaeb820-6625-4289-b1e4-d8ae0eaa8144",
   "metadata": {},
   "outputs": [],
   "source": [
    "total_df = total_df.assign(query_6_june = np.nan)\n",
    "total_df = total_df.assign(query_7_june = np.nan)\n",
    "total_df = total_df.assign(query_3_june = np.nan)\n",
    "total_df = total_df.assign(query_6_sept = np.nan)"
   ]
  },
  {
   "cell_type": "code",
   "execution_count": null,
   "id": "bcafb20d-87c5-4cf0-aac9-cd9ab1cc1c31",
   "metadata": {},
   "outputs": [],
   "source": [
    "total_df.head()"
   ]
  },
  {
   "cell_type": "code",
   "execution_count": null,
   "id": "84d59993-03b4-4bed-af00-9c1094e8ef67",
   "metadata": {},
   "outputs": [],
   "source": [
    "cols = total_df.columns.tolist()\n",
    "cols"
   ]
  },
  {
   "cell_type": "code",
   "execution_count": null,
   "id": "8cfe6031-a072-4727-abe3-a96def8d1aa3",
   "metadata": {
    "tags": []
   },
   "outputs": [],
   "source": [
    "cols = []\n",
    "total_df = total_df[cols]"
   ]
  },
  {
   "cell_type": "code",
   "execution_count": null,
   "id": "026fdbbb-8180-4be4-99d6-171d63bb4d60",
   "metadata": {
    "tags": []
   },
   "outputs": [],
   "source": [
    "fig, axes = plt.subplots(3,3, figsize=(12,12), sharey=True)\n",
    "fig.suptitle('H2O Benchmarks on 50GB Parquet Dataset For Naive Query --  Memory against Runtime (sec)\\n20 Workers AWS t3.large instances - 144GiB Total Memory\\nAMM On For Sept Release')\n",
    "total_df[['query_1_june', 'query_1_sept']].plot(ax=axes[0][0], title=\"Query 1\")\n",
    "total_df[['query_2_june', 'query_2_sept']].plot(ax=axes[0][1], title=\"Query 2\")\n",
    "total_df[['query_3_june', 'query_3_sept']].plot(ax=axes[0][2], title=\"Query 3 - June Release Fails\")\n",
    "total_df[['query_4_june', 'query_4_sept']].plot(ax=axes[1][0], title=\"Query 4\")\n",
    "total_df[['query_5_june', 'query_5_sept']].plot(ax=axes[1][1], title=\"Query 5\")\n",
    "total_df[['query_6_june', 'query_6_sept']].plot(ax=axes[1][2], title=\"Query 6 - Not Implemented\", legend=False)\n",
    "total_df[['query_7_june', 'query_7_sept']].plot(ax=axes[2][0], title=\"Query 7\")\n",
    "total_df[['query_8_june', 'query_8_sept']].plot(ax=axes[2][1], title=\"Query 8 - June Release Fails\")\n",
    "total_df[['query_9_june', 'query_9_sept']].plot(ax=axes[2][2], title=\"Query 9\")\n",
    "plt.text(x=0, y=0, s=\"Queries 8 & 9 Do Not Implement Column Projection\")\n",
    "plt.tight_layout()"
   ]
  },
  {
   "cell_type": "code",
   "execution_count": null,
   "id": "ee0d9dde-548d-4f80-b2f2-c59ec2c2f045",
   "metadata": {},
   "outputs": [],
   "source": [
    "fig.savefig(\"data/H2O_50GB_June_vs_Sept_20_Workers.png\")"
   ]
  },
  {
   "cell_type": "code",
   "execution_count": null,
   "id": "b4e3961a-cef5-42d5-ae31-4427499cc836",
   "metadata": {},
   "outputs": [],
   "source": []
  }
 ],
 "metadata": {
  "kernelspec": {
   "display_name": "Python 3 (ipykernel)",
   "language": "python",
   "name": "python3"
  },
  "language_info": {
   "codemirror_mode": {
    "name": "ipython",
    "version": 3
   },
   "file_extension": ".py",
   "mimetype": "text/x-python",
   "name": "python",
   "nbconvert_exporter": "python",
   "pygments_lexer": "ipython3",
   "version": "3.10.6"
  },
  "vscode": {
   "interpreter": {
    "hash": "b0fa6594d8f4cbf19f97940f81e996739fb7646882a419484c72d19e05852a7e"
   }
  }
 },
 "nbformat": 4,
 "nbformat_minor": 5
}
