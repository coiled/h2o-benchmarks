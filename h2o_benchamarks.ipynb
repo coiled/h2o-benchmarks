{
 "cells": [
  {
   "cell_type": "markdown",
   "id": "7f479607",
   "metadata": {},
   "source": [
    "## Grouby queries from h2o-benchmarks (parquet)"
   ]
  },
  {
   "cell_type": "code",
   "execution_count": null,
   "id": "3b24ff83",
   "metadata": {},
   "outputs": [],
   "source": [
    "from dask.distributed import Client\n",
    "import coiled\n",
    "import dask.dataframe as dd\n",
    "from dask.distributed import performance_report\n",
    "import pandas as pd"
   ]
  },
  {
   "cell_type": "code",
   "execution_count": null,
   "id": "139e9624",
   "metadata": {},
   "outputs": [],
   "source": [
    "cluster = coiled.Cluster(\n",
    "    name=f\"h2o-benchmarks\",\n",
    "    n_workers=10,\n",
    "    worker_vm_types=[\"t3.large\"],  # 2CPU, 8GiB\n",
    "    scheduler_vm_types=[\"t3.large\"],\n",
    "    package_sync=True,\n",
    ")"
   ]
  },
  {
   "cell_type": "code",
   "execution_count": null,
   "id": "eda793f2",
   "metadata": {},
   "outputs": [],
   "source": [
    "client = Client(cluster)\n",
    "client"
   ]
  },
  {
   "cell_type": "code",
   "execution_count": null,
   "id": "19ab3cd7",
   "metadata": {},
   "outputs": [],
   "source": [
    "data_size = {\"05GB\": \"s3://coiled-datasets/h2o-benchmark/N_1e7_K_1e2_parquet/*.parquet\",\n",
    "             \"5GB\":  \"s3://coiled-datasets/h2o-benchmark/N_1e8_K_1e2_parquet/*.parquet\",\n",
    "             \"50GB\": \"s3://coiled-datasets/h2o-benchmark/N_1e9_K_1e2_parquet/*.parquet\"}"
   ]
  },
  {
   "cell_type": "code",
   "execution_count": null,
   "id": "a8cea0dc",
   "metadata": {},
   "outputs": [],
   "source": [
    "def read_data(data_uri):\n",
    "    ddf = dd.read_parquet(\n",
    "                data_uri, engine=\"pyarrow\", storage_options={\"anon\": True}\n",
    "            )\n",
    "    return ddf"
   ]
  },
  {
   "cell_type": "code",
   "execution_count": null,
   "id": "27aaa620",
   "metadata": {},
   "outputs": [],
   "source": [
    "ds = \"50GB\" # choose \"05GB\" , \"5GB\" or \"50GB\"\n",
    "ddf = read_data(data_size[ds])"
   ]
  },
  {
   "cell_type": "markdown",
   "id": "283b3fa0",
   "metadata": {},
   "source": [
    "### Q1"
   ]
  },
  {
   "cell_type": "code",
   "execution_count": null,
   "id": "cbf6ffb1",
   "metadata": {},
   "outputs": [],
   "source": [
    "with performance_report(filename=f\"performance-reports/q1_data_{ds}.html\"):\n",
    "    \n",
    "    ddf_q1 = ddf[[\"id1\", \"v1\"]]\n",
    "    ddf_q1.groupby(\"id1\", dropna=False, observed=True).agg({\"v1\": \"sum\"}).compute()"
   ]
  },
  {
   "cell_type": "markdown",
   "id": "9078c268",
   "metadata": {},
   "source": [
    "### Q2"
   ]
  },
  {
   "cell_type": "code",
   "execution_count": null,
   "id": "d51e53cb",
   "metadata": {},
   "outputs": [],
   "source": [
    "with performance_report(filename=f\"performance-reports/q2_data_{ds}.html\"):\n",
    "    \n",
    "    ddf_q2 = ddf[[\"id1\", \"id2\", \"v1\"]]\n",
    "    (\n",
    "        ddf_q2.groupby([\"id1\", \"id2\"], dropna=False, observed=True)\n",
    "        .agg({\"v1\": \"sum\"})\n",
    "        .compute()\n",
    "    )"
   ]
  },
  {
   "cell_type": "markdown",
   "id": "525d8c18",
   "metadata": {},
   "source": [
    "### Q3 \n",
    "\n",
    "\"50GB\" got\n",
    "\n",
    "```python\n",
    "KilledWorker: (\"('aggregate-chunk-1352eeaf67172ec25f4661a39965a066-d11c92fa9cd76cfe076460d4406ad2c6', 1736)\", <WorkerState 'tls://10.0.11.26:40507', name: h2o-benchmarks-worker-e7b4d2ced4, status: closed, memory: 0, processing: 45>)\n",
    "\n",
    "WARNING:root:error sending AWS credentials to cluster: Timed out trying to connect to \n",
    "tls://10.0.10.223:38937 after 30 s\n",
    "\n",
    "\n",
    "```"
   ]
  },
  {
   "cell_type": "code",
   "execution_count": null,
   "id": "f8e2a4ad",
   "metadata": {},
   "outputs": [],
   "source": [
    "with performance_report(filename=f\"performance-reports/q3_data_{ds}.html\"):\n",
    "    \n",
    "    ddf_q3 = ddf[[\"id3\", \"v1\", \"v3\"]]\n",
    "    (\n",
    "        ddf_q3.groupby(\"id3\", dropna=False, observed=True)\n",
    "        .agg({\"v1\": \"sum\", \"v3\": \"mean\"})\n",
    "        .compute()\n",
    "    )"
   ]
  },
  {
   "cell_type": "markdown",
   "id": "8c659e09",
   "metadata": {},
   "source": [
    "### Q4"
   ]
  },
  {
   "cell_type": "code",
   "execution_count": null,
   "id": "a80abc6b",
   "metadata": {},
   "outputs": [],
   "source": [
    "with performance_report(filename=f\"performance-reports/q4_data_{ds}.html\"):\n",
    "    \n",
    "    ddf_q4 = ddf[[\"id4\", \"v1\", \"v2\", \"v3\"]]\n",
    "    (\n",
    "        ddf_q4.groupby(\"id4\", dropna=False, observed=True)\n",
    "        .agg({\"v1\": \"mean\", \"v2\": \"mean\", \"v3\": \"mean\"})\n",
    "        .compute()\n",
    "    )"
   ]
  },
  {
   "cell_type": "markdown",
   "id": "e2476aea",
   "metadata": {},
   "source": [
    "### Q5\n",
    "50GB we see some spilling about 5GB of spilling, some workers dying but restarting very close to finishing, untile we got a:\n",
    "\n",
    "```python\n",
    "KilledWorker: (\"('aggregate-combine-0c4783a5d5d1ec1968c74fb8baec15e9', 0, 3)\", <WorkerState 'tls://10.0.15.17:36179', name: h2o-benchmarks-worker-7d835dad59, status: closed, memory: 0, processing: 1>)\n",
    "```"
   ]
  },
  {
   "cell_type": "code",
   "execution_count": null,
   "id": "f684ba00",
   "metadata": {},
   "outputs": [],
   "source": [
    "with performance_report(filename=f\"performance-reports/q5_data_{ds}.html\"):\n",
    "    \n",
    "    ddf_q5 = ddf[[\"id6\", \"v1\", \"v2\", \"v3\"]]\n",
    "    (\n",
    "        ddf_q5.groupby(\"id6\", dropna=False, observed=True)\n",
    "        .agg({\"v1\": \"sum\", \"v2\": \"sum\", \"v3\": \"sum\"})\n",
    "        .compute()\n",
    "    )"
   ]
  },
  {
   "cell_type": "markdown",
   "id": "9ec0880b",
   "metadata": {},
   "source": [
    "### Q7 \n",
    "50GB \n",
    "```python\n",
    "KilledWorker: (\"('aggregate-chunk-351c6302b956751c118f4e66ba112f29-25ffa2e10908bad5aab7bf2896ccaca1', 1742)\", <WorkerState 'tls://10.0.10.247:40875', name: h2o-benchmarks-worker-fa206d90a7, status: closed, memory: 0, processing: 40>)\n",
    "```"
   ]
  },
  {
   "cell_type": "code",
   "execution_count": null,
   "id": "ca34caaa",
   "metadata": {},
   "outputs": [],
   "source": [
    "with performance_report(filename=f\"performance-reports/q7_data_{ds}.html\"):\n",
    "    \n",
    "    ddf_q7 = ddf[[\"id3\", \"v1\", \"v2\"]]\n",
    "    (\n",
    "        ddf_q7.groupby(\"id3\", dropna=False, observed=True)\n",
    "        .agg({\"v1\": \"max\", \"v2\": \"min\"})\n",
    "        .assign(range_v1_v2=lambda x: x[\"v1\"] - x[\"v2\"])[[\"range_v1_v2\"]]\n",
    "        .compute()\n",
    "    )"
   ]
  },
  {
   "cell_type": "markdown",
   "id": "316b56fa",
   "metadata": {},
   "source": [
    "### Q8\n",
    "Takes a long time in general. "
   ]
  },
  {
   "cell_type": "code",
   "execution_count": null,
   "id": "a6c2b6d6",
   "metadata": {},
   "outputs": [],
   "source": [
    "with performance_report(filename=f\"performance-reports/q8_data_{ds}.html\"):\n",
    "    \n",
    "    ddf_q8 = ddf[[\"id6\", \"v1\", \"v2\", \"v3\"]]\n",
    "    (\n",
    "        ddf_q8[~ddf_q8[\"v3\"].isna()][[\"id6\", \"v3\"]]\n",
    "        .groupby(\"id6\", dropna=False, observed=True)\n",
    "        .apply(\n",
    "            lambda x: x.nlargest(2, columns=\"v3\"),\n",
    "            meta={\"id6\": \"Int64\", \"v3\": \"float64\"},\n",
    "        )[[\"v3\"]]\n",
    "        .compute()\n",
    "    )"
   ]
  },
  {
   "cell_type": "markdown",
   "id": "971dfca4",
   "metadata": {},
   "source": [
    "### Q9"
   ]
  },
  {
   "cell_type": "code",
   "execution_count": null,
   "id": "54f8a0a7",
   "metadata": {},
   "outputs": [],
   "source": [
    "with performance_report(filename=f\"performance-reports/q9_data_{ds}.html\"):\n",
    "    \n",
    "    ddf_q9 = ddf[[\"id2\", \"id4\", \"v1\", \"v2\"]]\n",
    "    (\n",
    "        ddf_q9[[\"id2\", \"id4\", \"v1\", \"v2\"]]\n",
    "        .groupby([\"id2\", \"id4\"], dropna=False, observed=True)\n",
    "        .apply(\n",
    "            lambda x: pd.Series({\"r2\": x.corr()[\"v1\"][\"v2\"] ** 2}),\n",
    "            meta={\"r2\": \"float64\"},\n",
    "        )\n",
    "        .compute()\n",
    "    )"
   ]
  }
 ],
 "metadata": {
  "kernelspec": {
   "display_name": "Python 3 (ipykernel)",
   "language": "python",
   "name": "python3"
  },
  "language_info": {
   "codemirror_mode": {
    "name": "ipython",
    "version": 3
   },
   "file_extension": ".py",
   "mimetype": "text/x-python",
   "name": "python",
   "nbconvert_exporter": "python",
   "pygments_lexer": "ipython3",
   "version": "3.9.13"
  }
 },
 "nbformat": 4,
 "nbformat_minor": 5
}
